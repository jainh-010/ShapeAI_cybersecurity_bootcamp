{
  "nbformat": 4,
  "nbformat_minor": 0,
  "metadata": {
    "kernelspec": {
      "display_name": "Python 3",
      "language": "python",
      "name": "python3"
    },
    "language_info": {
      "codemirror_mode": {
        "name": "ipython",
        "version": 3
      },
      "file_extension": ".py",
      "mimetype": "text/x-python",
      "name": "python",
      "nbconvert_exporter": "python",
      "pygments_lexer": "ipython3",
      "version": "3.8.5"
    },
    "colab": {
      "name": "weather_project.ipynb",
      "provenance": []
    }
  },
  "cells": [
    {
      "cell_type": "code",
      "metadata": {
        "colab": {
          "base_uri": "https://localhost:8080/"
        },
        "id": "O9F-jzZ-aFEo",
        "outputId": "54d41dce-8c0e-4120-c230-654f7d284c09"
      },
      "source": [
        "import requests\n",
        "#import os\n",
        "from datetime import datetime\n",
        "\n",
        "api_key = '87d845b0b6cf29baa1a73cc34b067a95'\n",
        "location = input(\"Enter the city name: \")\n",
        "\n",
        "complete_api_link = \"https://api.openweathermap.org/data/2.5/weather?q=\"+location+\"&appid=\"+api_key\n",
        "api_link = requests.get(complete_api_link)\n",
        "api_data = api_link.json()\n",
        "\n",
        "#create variables to store and display data\n",
        "temp_city = ((api_data['main']['temp']) - 273.15)\n",
        "weather_desc = api_data['weather'][0]['description']\n",
        "hmdt = api_data['main']['humidity']\n",
        "wind_spd = api_data['wind']['speed']\n",
        "date_time = datetime.now().strftime(\"%d %b %Y | %I:%M:%S %p\")\n",
        "\n",
        "#opening the file in append mode\n",
        "with open('/content/weather_info.txt', 'a') as f:\n",
        "    f.write (\"\\n\\n\\n-------------------------------------------------------------\")\n",
        "    f.write  (\"Weather Stats for - {}  || {}\".format(location.upper(), date_time))\n",
        "    f.write  (\"-------------------------------------------------------------\")\n",
        "\n",
        "    f.write  (\"\\nCurrent temperature is: {:.2f} deg C \".format(temp_city))\n",
        "    f.write (\"\\nCurrent weather desc  : \" )\n",
        "    f.write ( weather_desc)\n",
        "    f.write (\"\\nCurrent Humidity      :\")\n",
        "    f.write(str(hmdt))\n",
        "    f.write(' %')\n",
        "    f.write  (\"\\nCurrent wind speed    :\")\n",
        "    f.write ( str(wind_spd))\n",
        "    f.write (' kmph')\n",
        "    f.write  (\"\\n-----xxx---------------------------xxx----------------------xxx----\")\n",
        "\n",
        "#reading the contents of the file\n",
        "with open('/content/weather_info.txt', 'r') as f:\n",
        "    print(f.read())\n",
        "\n"
      ],
      "execution_count": 1,
      "outputs": [
        {
          "output_type": "stream",
          "text": [
            "Enter the city name: Kolkata\n",
            "\n",
            "\n",
            "\n",
            "-------------------------------------------------------------Weather Stats for - KOLKATA  || 23 Jun 2021 | 07:17:03 AM-------------------------------------------------------------\n",
            "Current temperature is: 32.97 deg C \n",
            "Current weather desc  : haze\n",
            "Current Humidity      :84 %\n",
            "Current wind speed    :2.57 kmph\n",
            "-----xxx---------------------------xxx----------------------xxx----\n"
          ],
          "name": "stdout"
        }
      ]
    }
  ]
}